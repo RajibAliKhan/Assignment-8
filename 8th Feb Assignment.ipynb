{
 "cells": [
  {
   "cell_type": "code",
   "execution_count": null,
   "id": "fe4e1c9e-cfd8-47cf-bb30-2eb17676d765",
   "metadata": {},
   "outputs": [],
   "source": [
    "# Q1 answer :"
   ]
  },
  {
   "cell_type": "code",
   "execution_count": null,
   "id": "fc6fd966-461c-4c5b-b356-478ef4c9ee5e",
   "metadata": {},
   "outputs": [],
   "source": [
    "Abstraction is the process of hiding the internal details of data from users to avoid complexity. \n",
    "It is used to describe things in simple terms. \n",
    "It also able to hiding the implementation."
   ]
  },
  {
   "cell_type": "code",
   "execution_count": 14,
   "id": "003dff3e-4734-4e24-8a4d-8f5d878e73dc",
   "metadata": {},
   "outputs": [],
   "source": [
    "class Country :\n",
    "    def Country_name(self) :\n",
    "        pass\n",
    "    def Country_area(self) :\n",
    "        pass\n",
    "    def Country_population(self) :\n",
    "        pass"
   ]
  },
  {
   "cell_type": "code",
   "execution_count": 15,
   "id": "9ece623c-6817-421f-b75e-e035ee12cc2d",
   "metadata": {},
   "outputs": [],
   "source": [
    "class Country_info(Country) :\n",
    "    def Country_name(self) :\n",
    "        return 'The name of my country is India.'\n",
    "    def Country_area(self) :\n",
    "        return 'The area of my country is 32L sq.km.'\n",
    "    def Country_population(self) :\n",
    "        return 'The population of my country id 1.5B.'"
   ]
  },
  {
   "cell_type": "code",
   "execution_count": 16,
   "id": "a28d94ad-11fe-46db-af33-5b6c98e1c063",
   "metadata": {},
   "outputs": [],
   "source": [
    "class Country_details(Country) :\n",
    "    def Country_name(self) :\n",
    "        return \"The name of Rajib's country is India.\"\n",
    "    def Country_area(self) :\n",
    "        return \"The area of Rajib's country is 32L sq.km.\"\n",
    "    def Country_population(self) :\n",
    "        return \"The population of Rajib's country id 1.5B.\""
   ]
  },
  {
   "cell_type": "code",
   "execution_count": 17,
   "id": "a9f3be43-bb8b-4a30-96ee-1de40376e06f",
   "metadata": {},
   "outputs": [],
   "source": [
    "ci = Country_info()"
   ]
  },
  {
   "cell_type": "code",
   "execution_count": 18,
   "id": "1e37fe18-dc53-4404-96c1-fc478893d3cb",
   "metadata": {},
   "outputs": [
    {
     "data": {
      "text/plain": [
       "'The name of my country is India.'"
      ]
     },
     "execution_count": 18,
     "metadata": {},
     "output_type": "execute_result"
    }
   ],
   "source": [
    "ci.Country_name()"
   ]
  },
  {
   "cell_type": "code",
   "execution_count": 19,
   "id": "8bfffcf6-9978-49c8-97d6-aca470e9cef4",
   "metadata": {},
   "outputs": [
    {
     "data": {
      "text/plain": [
       "'The area of my country is 32L sq.km.'"
      ]
     },
     "execution_count": 19,
     "metadata": {},
     "output_type": "execute_result"
    }
   ],
   "source": [
    "ci.Country_area()"
   ]
  },
  {
   "cell_type": "code",
   "execution_count": 20,
   "id": "caff403a-8e48-4160-883a-951e8d0a000b",
   "metadata": {},
   "outputs": [
    {
     "data": {
      "text/plain": [
       "'The population of my country id 1.5B.'"
      ]
     },
     "execution_count": 20,
     "metadata": {},
     "output_type": "execute_result"
    }
   ],
   "source": [
    "ci.Country_population()"
   ]
  },
  {
   "cell_type": "code",
   "execution_count": 21,
   "id": "0b046634-04e3-4bef-b9bb-1723395fe580",
   "metadata": {},
   "outputs": [],
   "source": [
    "cd = Country_details()"
   ]
  },
  {
   "cell_type": "code",
   "execution_count": 22,
   "id": "dcaae28a-619f-4654-b023-271fe755e688",
   "metadata": {},
   "outputs": [
    {
     "data": {
      "text/plain": [
       "\"The name of Rajib's country is India.\""
      ]
     },
     "execution_count": 22,
     "metadata": {},
     "output_type": "execute_result"
    }
   ],
   "source": [
    "cd.Country_name()"
   ]
  },
  {
   "cell_type": "code",
   "execution_count": 23,
   "id": "78246b2e-2775-4c3b-98f9-cfc266bbec6a",
   "metadata": {},
   "outputs": [
    {
     "data": {
      "text/plain": [
       "\"The area of Rajib's country is 32L sq.km.\""
      ]
     },
     "execution_count": 23,
     "metadata": {},
     "output_type": "execute_result"
    }
   ],
   "source": [
    "cd.Country_area()"
   ]
  },
  {
   "cell_type": "code",
   "execution_count": 24,
   "id": "061290ab-9211-4c92-a03d-13c2c3268328",
   "metadata": {},
   "outputs": [
    {
     "data": {
      "text/plain": [
       "\"The population of Rajib's country id 1.5B.\""
      ]
     },
     "execution_count": 24,
     "metadata": {},
     "output_type": "execute_result"
    }
   ],
   "source": [
    "cd.Country_population()"
   ]
  },
  {
   "cell_type": "code",
   "execution_count": null,
   "id": "cd6c9426-56cc-4a07-a5f4-872ea02fd12f",
   "metadata": {},
   "outputs": [],
   "source": [
    "Abstraction is implemented to hide internal from users, \n",
    "while Encapsulation describes the concept of bundling data and methods within a single unit."
   ]
  },
  {
   "cell_type": "code",
   "execution_count": null,
   "id": "cb73f4c7-ed69-4045-83b4-84ef29666acc",
   "metadata": {},
   "outputs": [],
   "source": [
    "# Q2 answer :"
   ]
  },
  {
   "cell_type": "code",
   "execution_count": null,
   "id": "e01e8849-ef79-4a23-b719-8ead12d653aa",
   "metadata": {},
   "outputs": [],
   "source": [
    "# In abstraction, hide the internal data from users.\n",
    "# Example :\n",
    "\n",
    "class Country :\n",
    "    def Country_name(self) :\n",
    "        pass\n",
    "    # here, internal complexity is hidden from users.\n",
    "    \n",
    "# In encapsulation, all data is capsuled in one class by constructor. \n",
    "# Example :\n",
    "\n",
    "class Country :\n",
    "    def __init__(self, name, details) :\n",
    "        self.name = name\n",
    "        self.details = details\n",
    "    # here, all information or data is bundling in one class by constructor."
   ]
  },
  {
   "cell_type": "code",
   "execution_count": null,
   "id": "33fe5cbb-4f74-4618-859e-3b40b1ecc870",
   "metadata": {},
   "outputs": [],
   "source": [
    "# Q3 answer :"
   ]
  },
  {
   "cell_type": "code",
   "execution_count": null,
   "id": "1bd2fbb3-7c7f-41a4-8169-e61e266e3aba",
   "metadata": {},
   "outputs": [],
   "source": [
    "ABC module :\n",
    "ABC module means abstract base classes (ABCs) in Python.\n",
    "It is used as a blueprint for doing further code."
   ]
  },
  {
   "cell_type": "code",
   "execution_count": null,
   "id": "d28daaa1-11a6-4661-9ac2-8e593aa58bdf",
   "metadata": {},
   "outputs": [],
   "source": [
    "# Q4 answer :"
   ]
  },
  {
   "cell_type": "code",
   "execution_count": null,
   "id": "8c5ac1bf-40a7-4c77-814e-09e347bf7db7",
   "metadata": {},
   "outputs": [],
   "source": [
    "Data abstraction is achieved by hiding the complexity and show only essential data.\n",
    "For this, abstract keyword is used.\n",
    "It is also achived by encapsulation, data modeling.\n",
    "Example :"
   ]
  },
  {
   "cell_type": "code",
   "execution_count": 7,
   "id": "dca89037-507c-4b67-bc86-34dbe382294c",
   "metadata": {},
   "outputs": [],
   "source": [
    "class Person:\n",
    "    def __init__(self, name, age) :\n",
    "        self.name = name\n",
    "        self.age = age\n",
    "\n",
    "    def get_name(self) :\n",
    "        return self.name\n",
    "\n",
    "    def get_age(self) :\n",
    "        return self.age\n",
    "\n",
    "class Employee(Person) :\n",
    "    def __init__(self, name, age, salary) :\n",
    "        super().__init__(name, age)\n",
    "        self.salary = salary\n",
    "\n",
    "    def get_salary(self) :\n",
    "        return self.salary\n",
    "\n",
    "    \n",
    "    # here, Employee is inherited from Person.\n",
    "    # it is not required for a employee ro know how the information is calculated."
   ]
  },
  {
   "cell_type": "code",
   "execution_count": null,
   "id": "8b037c80-1d29-436e-ba5e-1f0708d9808a",
   "metadata": {},
   "outputs": [],
   "source": [
    "# Q5 answer :"
   ]
  },
  {
   "cell_type": "code",
   "execution_count": null,
   "id": "47cc627c-324b-484c-a389-594875ad6843",
   "metadata": {},
   "outputs": [],
   "source": [
    "No, we cannot create an instance of an abstract class.\n",
    "We must create methods and attributes, which is accessed as an instance."
   ]
  },
  {
   "cell_type": "code",
   "execution_count": 15,
   "id": "df3421e8-0f01-4578-b5b2-8dfd0acff08a",
   "metadata": {},
   "outputs": [
    {
     "ename": "TypeError",
     "evalue": "module() takes at most 2 arguments (3 given)",
     "output_type": "error",
     "traceback": [
      "\u001b[0;31m---------------------------------------------------------------------------\u001b[0m",
      "\u001b[0;31mTypeError\u001b[0m                                 Traceback (most recent call last)",
      "Cell \u001b[0;32mIn[15], line 2\u001b[0m\n\u001b[1;32m      1\u001b[0m \u001b[38;5;28;01mimport\u001b[39;00m \u001b[38;5;21;01mabc\u001b[39;00m\n\u001b[0;32m----> 2\u001b[0m \u001b[38;5;28;01mclass\u001b[39;00m \u001b[38;5;21;01mCompany\u001b[39;00m(abc) :\n\u001b[1;32m      4\u001b[0m     \u001b[38;5;129m@abc\u001b[39m\u001b[38;5;241m.\u001b[39mabstractmethod\n\u001b[1;32m      5\u001b[0m     \u001b[38;5;28;01mdef\u001b[39;00m \u001b[38;5;21mCompany_name\u001b[39m(\u001b[38;5;28mself\u001b[39m) :\n\u001b[1;32m      6\u001b[0m         \u001b[38;5;28;01mpass\u001b[39;00m\n",
      "\u001b[0;31mTypeError\u001b[0m: module() takes at most 2 arguments (3 given)"
     ]
    }
   ],
   "source": [
    "import abc\n",
    "class Company(abc) :\n",
    "    \n",
    "    @abc.abstractmethod\n",
    "    def Company_name(self) :\n",
    "        pass\n",
    "    \n",
    "    @abc.abstractmethod\n",
    "    def Company_address(self) :\n",
    "        pass"
   ]
  },
  {
   "cell_type": "code",
   "execution_count": null,
   "id": "4319923d-2458-4698-bb64-0a1f0dd11e70",
   "metadata": {},
   "outputs": [],
   "source": [
    "here, it shows typeError.\n",
    "If we use sub_classes for upper case, it must be executed.\n",
    "As an Example :"
   ]
  },
  {
   "cell_type": "code",
   "execution_count": 17,
   "id": "10bd9a17-2f60-4e68-8e39-0fc8f8983763",
   "metadata": {},
   "outputs": [],
   "source": [
    "class Company :\n",
    "    def Company_name(self) :\n",
    "        pass\n",
    "    def Company_place(self) :\n",
    "        pass"
   ]
  },
  {
   "cell_type": "code",
   "execution_count": 18,
   "id": "24cb5a7b-2925-40cc-a5dc-a33770c5440e",
   "metadata": {},
   "outputs": [],
   "source": [
    "class Company_new(Company) :\n",
    "    def Company_new_name(self) :\n",
    "        return 'Company new name is RAK company.'\n",
    "    def Company_new_place(self) :\n",
    "        return 'Company new place is Kolkata.'"
   ]
  },
  {
   "cell_type": "code",
   "execution_count": 19,
   "id": "6d0869f5-f914-46a2-9693-50f386187715",
   "metadata": {},
   "outputs": [
    {
     "data": {
      "text/plain": [
       "'Company new name is RAK company.'"
      ]
     },
     "execution_count": 19,
     "metadata": {},
     "output_type": "execute_result"
    }
   ],
   "source": [
    "c = Company_new()\n",
    "c.Company_new_name()"
   ]
  }
 ],
 "metadata": {
  "kernelspec": {
   "display_name": "Python 3 (ipykernel)",
   "language": "python",
   "name": "python3"
  },
  "language_info": {
   "codemirror_mode": {
    "name": "ipython",
    "version": 3
   },
   "file_extension": ".py",
   "mimetype": "text/x-python",
   "name": "python",
   "nbconvert_exporter": "python",
   "pygments_lexer": "ipython3",
   "version": "3.10.8"
  }
 },
 "nbformat": 4,
 "nbformat_minor": 5
}
